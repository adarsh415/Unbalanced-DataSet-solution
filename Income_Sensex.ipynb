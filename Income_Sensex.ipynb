{
 "cells": [
  {
   "cell_type": "code",
   "execution_count": 1,
   "metadata": {
    "collapsed": true
   },
   "outputs": [],
   "source": [
    "import pandas as pd\n",
    "import numpy as np\n",
    "import matplotlib.pyplot as plt\n",
    "import seaborn as sns\n",
    "%matplotlib inline"
   ]
  },
  {
   "cell_type": "code",
   "execution_count": 2,
   "metadata": {
    "collapsed": false
   },
   "outputs": [],
   "source": [
    "train=pd.read_csv('D:\\\\Adarsh_Laptop\\\\studetmater\\\\python\\\\GitHub\\\\train\\\\train.csv')\n",
    "test=pd.read_csv('D:\\\\Adarsh_Laptop\\\\studetmater\\\\python\\\\GitHub\\\\test\\\\test.csv')"
   ]
  },
  {
   "cell_type": "code",
   "execution_count": 3,
   "metadata": {
    "collapsed": false
   },
   "outputs": [
    {
     "data": {
      "text/plain": [
       "(199523, 41)"
      ]
     },
     "execution_count": 3,
     "metadata": {},
     "output_type": "execute_result"
    }
   ],
   "source": [
    "train.shape"
   ]
  },
  {
   "cell_type": "code",
   "execution_count": 4,
   "metadata": {
    "collapsed": false
   },
   "outputs": [
    {
     "name": "stdout",
     "output_type": "stream",
     "text": [
      "<class 'pandas.core.frame.DataFrame'>\n",
      "RangeIndex: 199523 entries, 0 to 199522\n",
      "Data columns (total 41 columns):\n",
      "age                                 199523 non-null int64\n",
      "class_of_worker                     199523 non-null object\n",
      "industry_code                       199523 non-null int64\n",
      "occupation_code                     199523 non-null int64\n",
      "education                           199523 non-null object\n",
      "wage_per_hour                       199523 non-null int64\n",
      "enrolled_in_edu_inst_lastwk         199523 non-null object\n",
      "marital_status                      199523 non-null object\n",
      "major_industry_code                 199523 non-null object\n",
      "major_occupation_code               199523 non-null object\n",
      "race                                199523 non-null object\n",
      "hispanic_origin                     198649 non-null object\n",
      "sex                                 199523 non-null object\n",
      "member_of_labor_union               199523 non-null object\n",
      "reason_for_unemployment             199523 non-null object\n",
      "full_parttime_employment_stat       199523 non-null object\n",
      "capital_gains                       199523 non-null int64\n",
      "capital_losses                      199523 non-null int64\n",
      "dividend_from_Stocks                199523 non-null int64\n",
      "tax_filer_status                    199523 non-null object\n",
      "region_of_previous_residence        199523 non-null object\n",
      "state_of_previous_residence         198815 non-null object\n",
      "d_household_family_stat             199523 non-null object\n",
      "d_household_summary                 199523 non-null object\n",
      "migration_msa                       99827 non-null object\n",
      "migration_reg                       99827 non-null object\n",
      "migration_within_reg                99827 non-null object\n",
      "live_1_year_ago                     199523 non-null object\n",
      "migration_sunbelt                   99827 non-null object\n",
      "num_person_Worked_employer          199523 non-null int64\n",
      "family_members_under_18             199523 non-null object\n",
      "country_father                      192810 non-null object\n",
      "country_mother                      193404 non-null object\n",
      "country_self                        196130 non-null object\n",
      "citizenship                         199523 non-null object\n",
      "business_or_self_employed           199523 non-null int64\n",
      "fill_questionnaire_veteran_admin    199523 non-null object\n",
      "veterans_benefits                   199523 non-null int64\n",
      "weeks_worked_in_year                199523 non-null int64\n",
      "year                                199523 non-null int64\n",
      "income_level                        199523 non-null int64\n",
      "dtypes: int64(13), object(28)\n",
      "memory usage: 62.4+ MB\n"
     ]
    }
   ],
   "source": [
    "train.info()"
   ]
  },
  {
   "cell_type": "code",
   "execution_count": 5,
   "metadata": {
    "collapsed": false
   },
   "outputs": [
    {
     "name": "stdout",
     "output_type": "stream",
     "text": [
      "Train size:  (199523, 41)\n",
      "Test size:   (99762, 41)\n"
     ]
    }
   ],
   "source": [
    "print 'Train size: ',train.shape\n",
    "print 'Test size:  ',test.shape"
   ]
  },
  {
   "cell_type": "code",
   "execution_count": 6,
   "metadata": {
    "collapsed": false
   },
   "outputs": [],
   "source": [
    "test.income_level=test.income_level.map(lambda x: x.rstrip('+.')).astype('int64')"
   ]
  },
  {
   "cell_type": "code",
   "execution_count": 7,
   "metadata": {
    "collapsed": false
   },
   "outputs": [
    {
     "name": "stdout",
     "output_type": "stream",
     "text": [
      "Unique values in train set Income Level column:  [-50000  50000]\n",
      "Unique values in test set Income Level column:  [-50000  50000]\n"
     ]
    }
   ],
   "source": [
    "print 'Unique values in train set Income Level column: ',train.income_level.unique()\n",
    "print 'Unique values in test set Income Level column: ',test.income_level.unique()"
   ]
  },
  {
   "cell_type": "code",
   "execution_count": 8,
   "metadata": {
    "collapsed": false
   },
   "outputs": [],
   "source": [
    "#let encode these unique values in 0 and 1 , to do that we will use LabelEncoder\n",
    "from sklearn.preprocessing import LabelEncoder"
   ]
  },
  {
   "cell_type": "code",
   "execution_count": 9,
   "metadata": {
    "collapsed": false
   },
   "outputs": [],
   "source": [
    "label = LabelEncoder()\n",
    "label.fit(train.income_level)\n",
    "train.income_level=label.transform(train.income_level).astype('int64')"
   ]
  },
  {
   "cell_type": "code",
   "execution_count": 10,
   "metadata": {
    "collapsed": false
   },
   "outputs": [
    {
     "data": {
      "text/plain": [
       "0    187141\n",
       "1     12382\n",
       "Name: income_level, dtype: int64"
      ]
     },
     "execution_count": 10,
     "metadata": {},
     "output_type": "execute_result"
    }
   ],
   "source": [
    "train.income_level.value_counts()"
   ]
  },
  {
   "cell_type": "code",
   "execution_count": 11,
   "metadata": {
    "collapsed": true
   },
   "outputs": [],
   "source": [
    "#label_1=LabelEncoder()\n",
    "#label_1.fit(test.income_level)\n",
    "test.income_level=label.transform(test.income_level).astype('int64')"
   ]
  },
  {
   "cell_type": "code",
   "execution_count": 12,
   "metadata": {
    "collapsed": false
   },
   "outputs": [
    {
     "data": {
      "text/plain": [
       "0    93576\n",
       "1     6186\n",
       "Name: income_level, dtype: int64"
      ]
     },
     "execution_count": 12,
     "metadata": {},
     "output_type": "execute_result"
    }
   ],
   "source": [
    "test.income_level.value_counts()"
   ]
  },
  {
   "cell_type": "code",
   "execution_count": 13,
   "metadata": {
    "collapsed": false
   },
   "outputs": [
    {
     "data": {
      "text/plain": [
       "(199523, 28)"
      ]
     },
     "execution_count": 13,
     "metadata": {},
     "output_type": "execute_result"
    }
   ],
   "source": [
    "train.select_dtypes(include=[object]).shape"
   ]
  },
  {
   "cell_type": "code",
   "execution_count": 14,
   "metadata": {
    "collapsed": true
   },
   "outputs": [],
   "source": [
    "train_str=train.select_dtypes(include=[object])\n",
    "train_num=train.select_dtypes(include=['int64'])"
   ]
  },
  {
   "cell_type": "code",
   "execution_count": 15,
   "metadata": {
    "collapsed": false
   },
   "outputs": [],
   "source": [
    "test_str=test.select_dtypes(include=[object])\n",
    "test_num=test.select_dtypes(include=['int64'])"
   ]
  },
  {
   "cell_type": "code",
   "execution_count": 16,
   "metadata": {
    "collapsed": false
   },
   "outputs": [
    {
     "data": {
      "text/plain": [
       "(199523, 13)"
      ]
     },
     "execution_count": 16,
     "metadata": {},
     "output_type": "execute_result"
    }
   ],
   "source": [
    "train_num.shape"
   ]
  },
  {
   "cell_type": "code",
   "execution_count": 17,
   "metadata": {
    "collapsed": false
   },
   "outputs": [
    {
     "data": {
      "text/plain": [
       "(99762, 13)"
      ]
     },
     "execution_count": 17,
     "metadata": {},
     "output_type": "execute_result"
    }
   ],
   "source": [
    "test_num.shape"
   ]
  },
  {
   "cell_type": "code",
   "execution_count": 79,
   "metadata": {
    "collapsed": false
   },
   "outputs": [
    {
     "data": {
      "text/plain": [
       "<matplotlib.axes._subplots.AxesSubplot at 0x380142b0>"
      ]
     },
     "execution_count": 79,
     "metadata": {},
     "output_type": "execute_result"
    },
    {
     "data": {
      "text/plain": [
       "<matplotlib.figure.Figure at 0x2e36dda0>"
      ]
     },
     "metadata": {},
     "output_type": "display_data"
    },
    {
     "data": {
      "image/png": "[encoded data removed]",
      "text/plain": [
       "<matplotlib.figure.Figure at 0x3b4e8cf8>"
      ]
     },
     "metadata": {},
     "output_type": "display_data"
    }
   ],
   "source": [
    "import matplotlib\n",
    "plt.figure(figsize=(10,6))\n",
    "matplotlib.style.use('ggplot')\n",
    "train_num.plot.hist(by=[train_num.age],bins=50,alpha=0.5)"
   ]
  },
  {
   "cell_type": "code",
   "execution_count": 42,
   "metadata": {
    "collapsed": false
   },
   "outputs": [
    {
     "data": {
      "text/plain": [
       "Index([u'age', u'industry_code', u'occupation_code', u'wage_per_hour',\n",
       "       u'capital_gains', u'capital_losses', u'dividend_from_Stocks',\n",
       "       u'num_person_Worked_employer', u'business_or_self_employed',\n",
       "       u'veterans_benefits', u'weeks_worked_in_year', u'year',\n",
       "       u'income_level'],\n",
       "      dtype='object')"
      ]
     },
     "execution_count": 42,
     "metadata": {},
     "output_type": "execute_result"
    }
   ],
   "source": [
    "train_num.columns"
   ]
  },
  {
   "cell_type": "code",
   "execution_count": 53,
   "metadata": {
    "collapsed": false
   },
   "outputs": [
    {
     "data": {
      "text/plain": [
       "<seaborn.axisgrid.JointGrid at 0xca352b0>"
      ]
     },
     "execution_count": 53,
     "metadata": {},
     "output_type": "execute_result"
    },
    {
     "data": {
      "image/png": "[encoded data removed]",
      "text/plain": [
       "<matplotlib.figure.Figure at 0x90f4860>"
      ]
     },
     "metadata": {},
     "output_type": "display_data"
    }
   ],
   "source": [
    "sns.jointplot(train_num['age'],train_num['wage_per_hour'],kind='scatter')"
   ]
  },
  {
   "cell_type": "code",
   "execution_count": 54,
   "metadata": {
    "collapsed": false
   },
   "outputs": [
    {
     "data": {
      "text/plain": [
       "<seaborn.axisgrid.FacetGrid at 0xcd548d0>"
      ]
     },
     "execution_count": 54,
     "metadata": {},
     "output_type": "execute_result"
    },
    {
     "data": {
      "text/plain": [
       "<matplotlib.figure.Figure at 0x11bc76d8>"
      ]
     },
     "metadata": {},
     "output_type": "display_data"
    },
    {
     "data": {
      "image/png": "[encoded data removed]",
      "text/plain": [
       "<matplotlib.figure.Figure at 0xc5e9f98>"
      ]
     },
     "metadata": {},
     "output_type": "display_data"
    }
   ],
   "source": [
    "fig=plt.figure(figsize=(12,8))\n",
    "sns.lmplot('age','wage_per_hour',data=train_num,hue='income_level',fit_reg=False)"
   ]
  },
  {
   "cell_type": "code",
   "execution_count": 55,
   "metadata": {
    "collapsed": false
   },
   "outputs": [
    {
     "data": {
      "text/plain": [
       "(array([0, 1, 2, 3, 4, 5, 6, 7, 8]), <a list of 9 Text xticklabel objects>)"
      ]
     },
     "execution_count": 55,
     "metadata": {},
     "output_type": "execute_result"
    },
    {
     "data": {
      "image/png": "[encoded data removed]",
      "text/plain": [
       "<matplotlib.figure.Figure at 0xce313c8>"
      ]
     },
     "metadata": {},
     "output_type": "display_data"
    }
   ],
   "source": [
    "fig = plt.figure(figsize=(16,8))\n",
    "sns.countplot(x='class_of_worker',data=train_str,hue=train_num.income_level)\n",
    "plt.xticks(rotation=60)"
   ]
  },
  {
   "cell_type": "code",
   "execution_count": 56,
   "metadata": {
    "collapsed": false
   },
   "outputs": [
    {
     "data": {
      "text/plain": [
       "(array([ 0,  1,  2,  3,  4,  5,  6,  7,  8,  9, 10, 11, 12, 13, 14, 15, 16]),\n",
       " <a list of 17 Text xticklabel objects>)"
      ]
     },
     "execution_count": 56,
     "metadata": {},
     "output_type": "execute_result"
    },
    {
     "data": {
      "image/png": "[encoded data removed]",
      "text/plain": [
       "<matplotlib.figure.Figure at 0x104a0588>"
      ]
     },
     "metadata": {},
     "output_type": "display_data"
    }
   ],
   "source": [
    "fig = plt.figure(figsize=(16,8))\n",
    "sns.set(style=\"darkgrid\")\n",
    "\n",
    "ax=sns.countplot(x='education',data=train_str,hue=train_num.income_level,palette='Set3',linewidth=5)\n",
    "plt.xticks(rotation=60)"
   ]
  },
  {
   "cell_type": "code",
   "execution_count": 57,
   "metadata": {
    "collapsed": false
   },
   "outputs": [
    {
     "data": {
      "text/plain": [
       "(array([0, 1]), <a list of 2 Text xticklabel objects>)"
      ]
     },
     "execution_count": 57,
     "metadata": {},
     "output_type": "execute_result"
    },
    {
     "data": {
      "image/png": "[encoded data removed]",
      "text/plain": [
       "<matplotlib.figure.Figure at 0x12ec2748>"
      ]
     },
     "metadata": {},
     "output_type": "display_data"
    }
   ],
   "source": [
    "fig=plt.figure(figsize=(14,8))\n",
    "sns.countplot(x='sex',data=train_str,hue=train_num.income_level)\n",
    "plt.xticks(rotation=30)"
   ]
  },
  {
   "cell_type": "code",
   "execution_count": 58,
   "metadata": {
    "collapsed": false
   },
   "outputs": [
    {
     "data": {
      "text/plain": [
       "(array([0, 1, 2, 3, 4, 5, 6]), <a list of 7 Text xticklabel objects>)"
      ]
     },
     "execution_count": 58,
     "metadata": {},
     "output_type": "execute_result"
    },
    {
     "data": {
      "image/png": "[encoded data removed]",
      "text/plain": [
       "<matplotlib.figure.Figure at 0x10494898>"
      ]
     },
     "metadata": {},
     "output_type": "display_data"
    }
   ],
   "source": [
    "sns.countplot(x='marital_status',data=train_str,hue=train_num.income_level)\n",
    "plt.xticks(rotation=60)"
   ]
  },
  {
   "cell_type": "code",
   "execution_count": 18,
   "metadata": {
    "collapsed": false
   },
   "outputs": [
    {
     "data": {
      "text/plain": [
       "Index([u'class_of_worker', u'education', u'enrolled_in_edu_inst_lastwk',\n",
       "       u'marital_status', u'major_industry_code', u'major_occupation_code',\n",
       "       u'race', u'hispanic_origin', u'sex', u'member_of_labor_union',\n",
       "       u'reason_for_unemployment', u'full_parttime_employment_stat',\n",
       "       u'tax_filer_status', u'region_of_previous_residence',\n",
       "       u'state_of_previous_residence', u'd_household_family_stat',\n",
       "       u'd_household_summary', u'migration_msa', u'migration_reg',\n",
       "       u'migration_within_reg', u'live_1_year_ago', u'migration_sunbelt',\n",
       "       u'family_members_under_18', u'country_father', u'country_mother',\n",
       "       u'country_self', u'citizenship', u'fill_questionnaire_veteran_admin'],\n",
       "      dtype='object')"
      ]
     },
     "execution_count": 18,
     "metadata": {},
     "output_type": "execute_result"
    }
   ],
   "source": [
    "train_str.columns"
   ]
  },
  {
   "cell_type": "code",
   "execution_count": 19,
   "metadata": {
    "collapsed": false
   },
   "outputs": [
    {
     "data": {
      "text/plain": [
       "age                           0\n",
       "industry_code                 0\n",
       "occupation_code               0\n",
       "wage_per_hour                 0\n",
       "capital_gains                 0\n",
       "capital_losses                0\n",
       "dividend_from_Stocks          0\n",
       "num_person_Worked_employer    0\n",
       "business_or_self_employed     0\n",
       "veterans_benefits             0\n",
       "weeks_worked_in_year          0\n",
       "year                          0\n",
       "income_level                  0\n",
       "dtype: int64"
      ]
     },
     "execution_count": 19,
     "metadata": {},
     "output_type": "execute_result"
    }
   ],
   "source": [
    "train_num.isnull().sum()"
   ]
  },
  {
   "cell_type": "code",
   "execution_count": null,
   "metadata": {
    "collapsed": false
   },
   "outputs": [],
   "source": []
  },
  {
   "cell_type": "code",
   "execution_count": 20,
   "metadata": {
    "collapsed": false
   },
   "outputs": [
    {
     "data": {
      "text/html": [
       "<div>\n",
       "<style>\n",
       "    .dataframe thead tr:only-child th {\n",
       "        text-align: right;\n",
       "    }\n",
       "\n",
       "    .dataframe thead th {\n",
       "        text-align: left;\n",
       "    }\n",
       "\n",
       "    .dataframe tbody tr th {\n",
       "        vertical-align: top;\n",
       "    }\n",
       "</style>\n",
       "<table border=\"1\" class=\"dataframe\">\n",
       "  <thead>\n",
       "    <tr style=\"text-align: right;\">\n",
       "      <th></th>\n",
       "      <th>age</th>\n",
       "      <th>industry_code</th>\n",
       "      <th>occupation_code</th>\n",
       "      <th>wage_per_hour</th>\n",
       "      <th>capital_gains</th>\n",
       "      <th>capital_losses</th>\n",
       "      <th>dividend_from_Stocks</th>\n",
       "      <th>num_person_Worked_employer</th>\n",
       "      <th>business_or_self_employed</th>\n",
       "      <th>veterans_benefits</th>\n",
       "      <th>weeks_worked_in_year</th>\n",
       "      <th>year</th>\n",
       "      <th>income_level</th>\n",
       "    </tr>\n",
       "  </thead>\n",
       "  <tbody>\n",
       "    <tr>\n",
       "      <th>age</th>\n",
       "      <td>1.000000</td>\n",
       "      <td>0.157822</td>\n",
       "      <td>0.117414</td>\n",
       "      <td>0.036938</td>\n",
       "      <td>0.053590</td>\n",
       "      <td>0.063351</td>\n",
       "      <td>0.104976</td>\n",
       "      <td>0.140887</td>\n",
       "      <td>-0.002265</td>\n",
       "      <td>0.674844</td>\n",
       "      <td>0.206181</td>\n",
       "      <td>0.004413</td>\n",
       "      <td>0.135720</td>\n",
       "    </tr>\n",
       "    <tr>\n",
       "      <th>industry_code</th>\n",
       "      <td>0.157822</td>\n",
       "      <td>1.000000</td>\n",
       "      <td>0.563493</td>\n",
       "      <td>0.165980</td>\n",
       "      <td>0.066017</td>\n",
       "      <td>0.072586</td>\n",
       "      <td>0.012774</td>\n",
       "      <td>0.642096</td>\n",
       "      <td>0.252694</td>\n",
       "      <td>0.476475</td>\n",
       "      <td>0.754472</td>\n",
       "      <td>0.003430</td>\n",
       "      <td>0.196190</td>\n",
       "    </tr>\n",
       "    <tr>\n",
       "      <th>occupation_code</th>\n",
       "      <td>0.117414</td>\n",
       "      <td>0.563493</td>\n",
       "      <td>1.000000</td>\n",
       "      <td>0.194498</td>\n",
       "      <td>0.002534</td>\n",
       "      <td>0.043680</td>\n",
       "      <td>-0.026726</td>\n",
       "      <td>0.515554</td>\n",
       "      <td>0.228952</td>\n",
       "      <td>0.438680</td>\n",
       "      <td>0.655613</td>\n",
       "      <td>-0.003140</td>\n",
       "      <td>0.013414</td>\n",
       "    </tr>\n",
       "    <tr>\n",
       "      <th>wage_per_hour</th>\n",
       "      <td>0.036938</td>\n",
       "      <td>0.165980</td>\n",
       "      <td>0.194498</td>\n",
       "      <td>1.000000</td>\n",
       "      <td>-0.001082</td>\n",
       "      <td>0.010993</td>\n",
       "      <td>-0.005731</td>\n",
       "      <td>0.191543</td>\n",
       "      <td>0.054051</td>\n",
       "      <td>0.113094</td>\n",
       "      <td>0.195687</td>\n",
       "      <td>0.002283</td>\n",
       "      <td>0.024528</td>\n",
       "    </tr>\n",
       "    <tr>\n",
       "      <th>capital_gains</th>\n",
       "      <td>0.053590</td>\n",
       "      <td>0.066017</td>\n",
       "      <td>0.002534</td>\n",
       "      <td>-0.001082</td>\n",
       "      <td>1.000000</td>\n",
       "      <td>-0.012700</td>\n",
       "      <td>0.131476</td>\n",
       "      <td>0.058015</td>\n",
       "      <td>0.015048</td>\n",
       "      <td>0.051530</td>\n",
       "      <td>0.083549</td>\n",
       "      <td>0.005243</td>\n",
       "      <td>0.240725</td>\n",
       "    </tr>\n",
       "    <tr>\n",
       "      <th>capital_losses</th>\n",
       "      <td>0.063351</td>\n",
       "      <td>0.072586</td>\n",
       "      <td>0.043680</td>\n",
       "      <td>0.010993</td>\n",
       "      <td>-0.012700</td>\n",
       "      <td>1.000000</td>\n",
       "      <td>0.042427</td>\n",
       "      <td>0.084255</td>\n",
       "      <td>0.024116</td>\n",
       "      <td>0.075391</td>\n",
       "      <td>0.100762</td>\n",
       "      <td>0.000096</td>\n",
       "      <td>0.147417</td>\n",
       "    </tr>\n",
       "    <tr>\n",
       "      <th>dividend_from_Stocks</th>\n",
       "      <td>0.104976</td>\n",
       "      <td>0.012774</td>\n",
       "      <td>-0.026726</td>\n",
       "      <td>-0.005731</td>\n",
       "      <td>0.131476</td>\n",
       "      <td>0.042427</td>\n",
       "      <td>1.000000</td>\n",
       "      <td>0.007206</td>\n",
       "      <td>-0.004885</td>\n",
       "      <td>0.054585</td>\n",
       "      <td>0.013823</td>\n",
       "      <td>0.001913</td>\n",
       "      <td>0.175779</td>\n",
       "    </tr>\n",
       "    <tr>\n",
       "      <th>num_person_Worked_employer</th>\n",
       "      <td>0.140887</td>\n",
       "      <td>0.642096</td>\n",
       "      <td>0.515554</td>\n",
       "      <td>0.191543</td>\n",
       "      <td>0.058015</td>\n",
       "      <td>0.084255</td>\n",
       "      <td>0.007206</td>\n",
       "      <td>1.000000</td>\n",
       "      <td>0.240553</td>\n",
       "      <td>0.463334</td>\n",
       "      <td>0.747302</td>\n",
       "      <td>0.018774</td>\n",
       "      <td>0.222684</td>\n",
       "    </tr>\n",
       "    <tr>\n",
       "      <th>business_or_self_employed</th>\n",
       "      <td>-0.002265</td>\n",
       "      <td>0.252694</td>\n",
       "      <td>0.228952</td>\n",
       "      <td>0.054051</td>\n",
       "      <td>0.015048</td>\n",
       "      <td>0.024116</td>\n",
       "      <td>-0.004885</td>\n",
       "      <td>0.240553</td>\n",
       "      <td>1.000000</td>\n",
       "      <td>0.177448</td>\n",
       "      <td>0.265872</td>\n",
       "      <td>0.007377</td>\n",
       "      <td>0.040473</td>\n",
       "    </tr>\n",
       "    <tr>\n",
       "      <th>veterans_benefits</th>\n",
       "      <td>0.674844</td>\n",
       "      <td>0.476475</td>\n",
       "      <td>0.438680</td>\n",
       "      <td>0.113094</td>\n",
       "      <td>0.051530</td>\n",
       "      <td>0.075391</td>\n",
       "      <td>0.054585</td>\n",
       "      <td>0.463334</td>\n",
       "      <td>0.177448</td>\n",
       "      <td>1.000000</td>\n",
       "      <td>0.532279</td>\n",
       "      <td>0.003122</td>\n",
       "      <td>0.140930</td>\n",
       "    </tr>\n",
       "    <tr>\n",
       "      <th>weeks_worked_in_year</th>\n",
       "      <td>0.206181</td>\n",
       "      <td>0.754472</td>\n",
       "      <td>0.655613</td>\n",
       "      <td>0.195687</td>\n",
       "      <td>0.083549</td>\n",
       "      <td>0.100762</td>\n",
       "      <td>0.013823</td>\n",
       "      <td>0.747302</td>\n",
       "      <td>0.265872</td>\n",
       "      <td>0.532279</td>\n",
       "      <td>1.000000</td>\n",
       "      <td>0.005252</td>\n",
       "      <td>0.262316</td>\n",
       "    </tr>\n",
       "    <tr>\n",
       "      <th>year</th>\n",
       "      <td>0.004413</td>\n",
       "      <td>0.003430</td>\n",
       "      <td>-0.003140</td>\n",
       "      <td>0.002283</td>\n",
       "      <td>0.005243</td>\n",
       "      <td>0.000096</td>\n",
       "      <td>0.001913</td>\n",
       "      <td>0.018774</td>\n",
       "      <td>0.007377</td>\n",
       "      <td>0.003122</td>\n",
       "      <td>0.005252</td>\n",
       "      <td>1.000000</td>\n",
       "      <td>0.014794</td>\n",
       "    </tr>\n",
       "    <tr>\n",
       "      <th>income_level</th>\n",
       "      <td>0.135720</td>\n",
       "      <td>0.196190</td>\n",
       "      <td>0.013414</td>\n",
       "      <td>0.024528</td>\n",
       "      <td>0.240725</td>\n",
       "      <td>0.147417</td>\n",
       "      <td>0.175779</td>\n",
       "      <td>0.222684</td>\n",
       "      <td>0.040473</td>\n",
       "      <td>0.140930</td>\n",
       "      <td>0.262316</td>\n",
       "      <td>0.014794</td>\n",
       "      <td>1.000000</td>\n",
       "    </tr>\n",
       "  </tbody>\n",
       "</table>\n",
       "</div>"
      ],
      "text/plain": [
       "                                 age  industry_code  occupation_code  \\\n",
       "age                         1.000000       0.157822         0.117414   \n",
       "industry_code               0.157822       1.000000         0.563493   \n",
       "occupation_code             0.117414       0.563493         1.000000   \n",
       "wage_per_hour               0.036938       0.165980         0.194498   \n",
       "capital_gains               0.053590       0.066017         0.002534   \n",
       "capital_losses              0.063351       0.072586         0.043680   \n",
       "dividend_from_Stocks        0.104976       0.012774        -0.026726   \n",
       "num_person_Worked_employer  0.140887       0.642096         0.515554   \n",
       "business_or_self_employed  -0.002265       0.252694         0.228952   \n",
       "veterans_benefits           0.674844       0.476475         0.438680   \n",
       "weeks_worked_in_year        0.206181       0.754472         0.655613   \n",
       "year                        0.004413       0.003430        -0.003140   \n",
       "income_level                0.135720       0.196190         0.013414   \n",
       "\n",
       "                            wage_per_hour  capital_gains  capital_losses  \\\n",
       "age                              0.036938       0.053590        0.063351   \n",
       "industry_code                    0.165980       0.066017        0.072586   \n",
       "occupation_code                  0.194498       0.002534        0.043680   \n",
       "wage_per_hour                    1.000000      -0.001082        0.010993   \n",
       "capital_gains                   -0.001082       1.000000       -0.012700   \n",
       "capital_losses                   0.010993      -0.012700        1.000000   \n",
       "dividend_from_Stocks            -0.005731       0.131476        0.042427   \n",
       "num_person_Worked_employer       0.191543       0.058015        0.084255   \n",
       "business_or_self_employed        0.054051       0.015048        0.024116   \n",
       "veterans_benefits                0.113094       0.051530        0.075391   \n",
       "weeks_worked_in_year             0.195687       0.083549        0.100762   \n",
       "year                             0.002283       0.005243        0.000096   \n",
       "income_level                     0.024528       0.240725        0.147417   \n",
       "\n",
       "                            dividend_from_Stocks  num_person_Worked_employer  \\\n",
       "age                                     0.104976                    0.140887   \n",
       "industry_code                           0.012774                    0.642096   \n",
       "occupation_code                        -0.026726                    0.515554   \n",
       "wage_per_hour                          -0.005731                    0.191543   \n",
       "capital_gains                           0.131476                    0.058015   \n",
       "capital_losses                          0.042427                    0.084255   \n",
       "dividend_from_Stocks                    1.000000                    0.007206   \n",
       "num_person_Worked_employer              0.007206                    1.000000   \n",
       "business_or_self_employed              -0.004885                    0.240553   \n",
       "veterans_benefits                       0.054585                    0.463334   \n",
       "weeks_worked_in_year                    0.013823                    0.747302   \n",
       "year                                    0.001913                    0.018774   \n",
       "income_level                            0.175779                    0.222684   \n",
       "\n",
       "                            business_or_self_employed  veterans_benefits  \\\n",
       "age                                         -0.002265           0.674844   \n",
       "industry_code                                0.252694           0.476475   \n",
       "occupation_code                              0.228952           0.438680   \n",
       "wage_per_hour                                0.054051           0.113094   \n",
       "capital_gains                                0.015048           0.051530   \n",
       "capital_losses                               0.024116           0.075391   \n",
       "dividend_from_Stocks                        -0.004885           0.054585   \n",
       "num_person_Worked_employer                   0.240553           0.463334   \n",
       "business_or_self_employed                    1.000000           0.177448   \n",
       "veterans_benefits                            0.177448           1.000000   \n",
       "weeks_worked_in_year                         0.265872           0.532279   \n",
       "year                                         0.007377           0.003122   \n",
       "income_level                                 0.040473           0.140930   \n",
       "\n",
       "                            weeks_worked_in_year      year  income_level  \n",
       "age                                     0.206181  0.004413      0.135720  \n",
       "industry_code                           0.754472  0.003430      0.196190  \n",
       "occupation_code                         0.655613 -0.003140      0.013414  \n",
       "wage_per_hour                           0.195687  0.002283      0.024528  \n",
       "capital_gains                           0.083549  0.005243      0.240725  \n",
       "capital_losses                          0.100762  0.000096      0.147417  \n",
       "dividend_from_Stocks                    0.013823  0.001913      0.175779  \n",
       "num_person_Worked_employer              0.747302  0.018774      0.222684  \n",
       "business_or_self_employed               0.265872  0.007377      0.040473  \n",
       "veterans_benefits                       0.532279  0.003122      0.140930  \n",
       "weeks_worked_in_year                    1.000000  0.005252      0.262316  \n",
       "year                                    0.005252  1.000000      0.014794  \n",
       "income_level                            0.262316  0.014794      1.000000  "
      ]
     },
     "execution_count": 20,
     "metadata": {},
     "output_type": "execute_result"
    }
   ],
   "source": [
    "train_num.corr()"
   ]
  },
  {
   "cell_type": "code",
   "execution_count": 82,
   "metadata": {
    "collapsed": false
   },
   "outputs": [
    {
     "data": {
      "image/png": "[encoded data removed]",
      "text/plain": [
       "<matplotlib.figure.Figure at 0x382e09e8>"
      ]
     },
     "metadata": {},
     "output_type": "display_data"
    }
   ],
   "source": [
    "fig,ax=plt.subplots(figsize=(10,10))\n",
    "ax.matshow(train_num.corr())\n",
    "#plt.set_cmap()\n",
    "plt.xticks(range(len(train_num.columns)),train_num.columns,rotation=60)\n",
    "plt.yticks(range(len(train_num.columns)),train_num.columns,rotation=60)\n",
    "plt.show()"
   ]
  },
  {
   "cell_type": "code",
   "execution_count": 21,
   "metadata": {
    "collapsed": false
   },
   "outputs": [
    {
     "data": {
      "text/plain": [
       "(199523, 12)"
      ]
     },
     "execution_count": 21,
     "metadata": {},
     "output_type": "execute_result"
    }
   ],
   "source": [
    "train_num=train_num.copy()\n",
    "train_num.drop('weeks_worked_in_year',axis=1,inplace=True)\n",
    "train_num.shape"
   ]
  },
  {
   "cell_type": "code",
   "execution_count": 22,
   "metadata": {
    "collapsed": false
   },
   "outputs": [
    {
     "data": {
      "text/plain": [
       "(99762, 12)"
      ]
     },
     "execution_count": 22,
     "metadata": {},
     "output_type": "execute_result"
    }
   ],
   "source": [
    "test_num=test_num.copy()\n",
    "test_num.drop('weeks_worked_in_year',axis=1,inplace=True)\n",
    "test_num.shape"
   ]
  },
  {
   "cell_type": "code",
   "execution_count": 23,
   "metadata": {
    "collapsed": false
   },
   "outputs": [
    {
     "data": {
      "text/plain": [
       "(99762, 12)"
      ]
     },
     "execution_count": 23,
     "metadata": {},
     "output_type": "execute_result"
    }
   ],
   "source": [
    "test_num.shape"
   ]
  },
  {
   "cell_type": "code",
   "execution_count": 24,
   "metadata": {
    "collapsed": false
   },
   "outputs": [],
   "source": [
    "#missing value in categorical\n",
    "temp=(train_str.isnull().sum()/len(train_str))*100 < 5\n",
    "temp_test = (test_str.isnull().sum()/len(test_str))*100 <5"
   ]
  },
  {
   "cell_type": "code",
   "execution_count": 25,
   "metadata": {
    "collapsed": false
   },
   "outputs": [
    {
     "data": {
      "text/plain": [
       "(199523, 28)"
      ]
     },
     "execution_count": 25,
     "metadata": {},
     "output_type": "execute_result"
    }
   ],
   "source": [
    "train_str[temp.index].shape"
   ]
  },
  {
   "cell_type": "code",
   "execution_count": 26,
   "metadata": {
    "collapsed": false
   },
   "outputs": [
    {
     "data": {
      "text/plain": [
       "(99762, 28)"
      ]
     },
     "execution_count": 26,
     "metadata": {},
     "output_type": "execute_result"
    }
   ],
   "source": [
    "test_str.shape"
   ]
  },
  {
   "cell_type": "code",
   "execution_count": 27,
   "metadata": {
    "collapsed": false
   },
   "outputs": [
    {
     "data": {
      "text/plain": [
       "class_of_worker                      True\n",
       "education                            True\n",
       "enrolled_in_edu_inst_lastwk          True\n",
       "marital_status                       True\n",
       "major_industry_code                  True\n",
       "major_occupation_code                True\n",
       "race                                 True\n",
       "hispanic_origin                      True\n",
       "sex                                  True\n",
       "member_of_labor_union                True\n",
       "reason_for_unemployment              True\n",
       "full_parttime_employment_stat        True\n",
       "tax_filer_status                     True\n",
       "region_of_previous_residence         True\n",
       "state_of_previous_residence          True\n",
       "d_household_family_stat              True\n",
       "d_household_summary                  True\n",
       "migration_msa                       False\n",
       "migration_reg                       False\n",
       "migration_within_reg                False\n",
       "live_1_year_ago                      True\n",
       "migration_sunbelt                   False\n",
       "family_members_under_18              True\n",
       "country_father                       True\n",
       "country_mother                       True\n",
       "country_self                         True\n",
       "citizenship                          True\n",
       "fill_questionnaire_veteran_admin     True\n",
       "dtype: bool"
      ]
     },
     "execution_count": 27,
     "metadata": {},
     "output_type": "execute_result"
    }
   ],
   "source": [
    "temp"
   ]
  },
  {
   "cell_type": "code",
   "execution_count": 28,
   "metadata": {
    "collapsed": false
   },
   "outputs": [
    {
     "data": {
      "text/plain": [
       "Index([u'class_of_worker', u'education', u'enrolled_in_edu_inst_lastwk',\n",
       "       u'marital_status', u'major_industry_code', u'major_occupation_code',\n",
       "       u'race', u'hispanic_origin', u'sex', u'member_of_labor_union',\n",
       "       u'reason_for_unemployment', u'full_parttime_employment_stat',\n",
       "       u'tax_filer_status', u'region_of_previous_residence',\n",
       "       u'state_of_previous_residence', u'd_household_family_stat',\n",
       "       u'd_household_summary', u'migration_msa', u'migration_reg',\n",
       "       u'migration_within_reg', u'live_1_year_ago', u'migration_sunbelt',\n",
       "       u'family_members_under_18', u'country_father', u'country_mother',\n",
       "       u'country_self', u'citizenship', u'fill_questionnaire_veteran_admin'],\n",
       "      dtype='object')"
      ]
     },
     "execution_count": 28,
     "metadata": {},
     "output_type": "execute_result"
    }
   ],
   "source": [
    "temp.index"
   ]
  },
  {
   "cell_type": "code",
   "execution_count": 29,
   "metadata": {
    "collapsed": false
   },
   "outputs": [],
   "source": [
    "\n",
    "train_str=train_str[train_str.columns[pd.Series(temp.values)]]\n",
    "test_str=test_str[test_str.columns[pd.Series(temp_test.values)]]"
   ]
  },
  {
   "cell_type": "code",
   "execution_count": 30,
   "metadata": {
    "collapsed": false
   },
   "outputs": [
    {
     "data": {
      "text/plain": [
       "(99762, 28)"
      ]
     },
     "execution_count": 30,
     "metadata": {},
     "output_type": "execute_result"
    }
   ],
   "source": [
    "test_str.shape"
   ]
  },
  {
   "cell_type": "code",
   "execution_count": 31,
   "metadata": {
    "collapsed": false
   },
   "outputs": [],
   "source": [
    "train_str.fillna(value='Unavailable',inplace=True)"
   ]
  },
  {
   "cell_type": "code",
   "execution_count": 32,
   "metadata": {
    "collapsed": false
   },
   "outputs": [],
   "source": [
    "temp_test=(test_str.isnull().sum()/len(test_str))*100 < 5\n",
    "test_str=test_str[test_str.columns[pd.Series(temp_test.values)]]"
   ]
  },
  {
   "cell_type": "code",
   "execution_count": 33,
   "metadata": {
    "collapsed": true
   },
   "outputs": [],
   "source": [
    "test_str=test_str.copy()\n",
    "test_str.fillna(value='Unavailable',inplace=True)"
   ]
  },
  {
   "cell_type": "code",
   "execution_count": 34,
   "metadata": {
    "collapsed": false
   },
   "outputs": [
    {
     "data": {
      "text/plain": [
       " Native- Born in the United States              False\n",
       " Foreign born- Not a citizen of U S             False\n",
       " Foreign born- U S citizen by naturalization     True\n",
       " Native- Born abroad of American Parent(s)       True\n",
       " Native- Born in Puerto Rico or U S Outlying     True\n",
       "Name: citizenship, dtype: bool"
      ]
     },
     "execution_count": 34,
     "metadata": {},
     "output_type": "execute_result"
    }
   ],
   "source": [
    "test_str.citizenship.value_counts()/len(test_str)*100 < 5"
   ]
  },
  {
   "cell_type": "code",
   "execution_count": 35,
   "metadata": {
    "collapsed": false
   },
   "outputs": [
    {
     "name": "stdout",
     "output_type": "stream",
     "text": [
      "Done\n"
     ]
    }
   ],
   "source": [
    "for col in test_str.columns:\n",
    "    temp=test_str[col].value_counts()/len(test_str)*100<5\n",
    "    uniqList=[]\n",
    "    for indx in temp.index:\n",
    "        if temp[indx] == True:\n",
    "            uniqList.append(indx)\n",
    "    for x in uniqList:\n",
    "        index = 0\n",
    "        for y in test_str[col]:\n",
    "            if x.strip() == y.strip():\n",
    "                \n",
    "                test_str[col].iloc[index]='Other'\n",
    "                index=index+1\n",
    "            else:\n",
    "                index=index+1\n",
    "print 'Done'\n",
    "    "
   ]
  },
  {
   "cell_type": "code",
   "execution_count": 36,
   "metadata": {
    "collapsed": false
   },
   "outputs": [
    {
     "data": {
      "text/html": [
       "<div>\n",
       "<style>\n",
       "    .dataframe thead tr:only-child th {\n",
       "        text-align: right;\n",
       "    }\n",
       "\n",
       "    .dataframe thead th {\n",
       "        text-align: left;\n",
       "    }\n",
       "\n",
       "    .dataframe tbody tr th {\n",
       "        vertical-align: top;\n",
       "    }\n",
       "</style>\n",
       "<table border=\"1\" class=\"dataframe\">\n",
       "  <thead>\n",
       "    <tr style=\"text-align: right;\">\n",
       "      <th></th>\n",
       "      <th>class_of_worker</th>\n",
       "      <th>education</th>\n",
       "      <th>enrolled_in_edu_inst_lastwk</th>\n",
       "      <th>marital_status</th>\n",
       "      <th>major_industry_code</th>\n",
       "      <th>major_occupation_code</th>\n",
       "      <th>race</th>\n",
       "      <th>hispanic_origin</th>\n",
       "      <th>sex</th>\n",
       "      <th>member_of_labor_union</th>\n",
       "      <th>...</th>\n",
       "      <th>state_of_previous_residence</th>\n",
       "      <th>d_household_family_stat</th>\n",
       "      <th>d_household_summary</th>\n",
       "      <th>live_1_year_ago</th>\n",
       "      <th>family_members_under_18</th>\n",
       "      <th>country_father</th>\n",
       "      <th>country_mother</th>\n",
       "      <th>country_self</th>\n",
       "      <th>citizenship</th>\n",
       "      <th>fill_questionnaire_veteran_admin</th>\n",
       "    </tr>\n",
       "  </thead>\n",
       "  <tbody>\n",
       "    <tr>\n",
       "      <th>0</th>\n",
       "      <td>Not in universe</td>\n",
       "      <td>High school graduate</td>\n",
       "      <td>Not in universe</td>\n",
       "      <td>Widowed</td>\n",
       "      <td>Not in universe or children</td>\n",
       "      <td>Not in universe</td>\n",
       "      <td>White</td>\n",
       "      <td>All other</td>\n",
       "      <td>Female</td>\n",
       "      <td>Not in universe</td>\n",
       "      <td>...</td>\n",
       "      <td>Not in universe</td>\n",
       "      <td>Other Rel 18+ ever marr not in subfamily</td>\n",
       "      <td>Other relative of householder</td>\n",
       "      <td>Not in universe under 1 year old</td>\n",
       "      <td>Not in universe</td>\n",
       "      <td>United-States</td>\n",
       "      <td>United-States</td>\n",
       "      <td>United-States</td>\n",
       "      <td>Native- Born in the United States</td>\n",
       "      <td>Not in universe</td>\n",
       "    </tr>\n",
       "    <tr>\n",
       "      <th>1</th>\n",
       "      <td>Self-employed-not incorporated</td>\n",
       "      <td>Some college but no degree</td>\n",
       "      <td>Not in universe</td>\n",
       "      <td>Divorced</td>\n",
       "      <td>Construction</td>\n",
       "      <td>Precision production craft &amp; repair</td>\n",
       "      <td>White</td>\n",
       "      <td>All other</td>\n",
       "      <td>Male</td>\n",
       "      <td>Not in universe</td>\n",
       "      <td>...</td>\n",
       "      <td>Arkansas</td>\n",
       "      <td>Householder</td>\n",
       "      <td>Householder</td>\n",
       "      <td>No</td>\n",
       "      <td>Not in universe</td>\n",
       "      <td>United-States</td>\n",
       "      <td>United-States</td>\n",
       "      <td>United-States</td>\n",
       "      <td>Native- Born in the United States</td>\n",
       "      <td>Not in universe</td>\n",
       "    </tr>\n",
       "    <tr>\n",
       "      <th>2</th>\n",
       "      <td>Not in universe</td>\n",
       "      <td>10th grade</td>\n",
       "      <td>High school</td>\n",
       "      <td>Never married</td>\n",
       "      <td>Not in universe or children</td>\n",
       "      <td>Not in universe</td>\n",
       "      <td>Asian or Pacific Islander</td>\n",
       "      <td>All other</td>\n",
       "      <td>Female</td>\n",
       "      <td>Not in universe</td>\n",
       "      <td>...</td>\n",
       "      <td>Not in universe</td>\n",
       "      <td>Child 18+ never marr Not in a subfamily</td>\n",
       "      <td>Child 18 or older</td>\n",
       "      <td>Not in universe under 1 year old</td>\n",
       "      <td>Not in universe</td>\n",
       "      <td>Vietnam</td>\n",
       "      <td>Vietnam</td>\n",
       "      <td>Vietnam</td>\n",
       "      <td>Foreign born- Not a citizen of U S</td>\n",
       "      <td>Not in universe</td>\n",
       "    </tr>\n",
       "    <tr>\n",
       "      <th>3</th>\n",
       "      <td>Not in universe</td>\n",
       "      <td>Children</td>\n",
       "      <td>Not in universe</td>\n",
       "      <td>Never married</td>\n",
       "      <td>Not in universe or children</td>\n",
       "      <td>Not in universe</td>\n",
       "      <td>White</td>\n",
       "      <td>All other</td>\n",
       "      <td>Female</td>\n",
       "      <td>Not in universe</td>\n",
       "      <td>...</td>\n",
       "      <td>Not in universe</td>\n",
       "      <td>Child &lt;18 never marr not in subfamily</td>\n",
       "      <td>Child under 18 never married</td>\n",
       "      <td>Yes</td>\n",
       "      <td>Both parents present</td>\n",
       "      <td>United-States</td>\n",
       "      <td>United-States</td>\n",
       "      <td>United-States</td>\n",
       "      <td>Native- Born in the United States</td>\n",
       "      <td>Not in universe</td>\n",
       "    </tr>\n",
       "    <tr>\n",
       "      <th>4</th>\n",
       "      <td>Not in universe</td>\n",
       "      <td>Children</td>\n",
       "      <td>Not in universe</td>\n",
       "      <td>Never married</td>\n",
       "      <td>Not in universe or children</td>\n",
       "      <td>Not in universe</td>\n",
       "      <td>White</td>\n",
       "      <td>All other</td>\n",
       "      <td>Female</td>\n",
       "      <td>Not in universe</td>\n",
       "      <td>...</td>\n",
       "      <td>Not in universe</td>\n",
       "      <td>Child &lt;18 never marr not in subfamily</td>\n",
       "      <td>Child under 18 never married</td>\n",
       "      <td>Yes</td>\n",
       "      <td>Both parents present</td>\n",
       "      <td>United-States</td>\n",
       "      <td>United-States</td>\n",
       "      <td>United-States</td>\n",
       "      <td>Native- Born in the United States</td>\n",
       "      <td>Not in universe</td>\n",
       "    </tr>\n",
       "  </tbody>\n",
       "</table>\n",
       "<p>5 rows × 24 columns</p>\n",
       "</div>"
      ],
      "text/plain": [
       "                  class_of_worker                   education  \\\n",
       "0                 Not in universe        High school graduate   \n",
       "1  Self-employed-not incorporated  Some college but no degree   \n",
       "2                 Not in universe                  10th grade   \n",
       "3                 Not in universe                    Children   \n",
       "4                 Not in universe                    Children   \n",
       "\n",
       "  enrolled_in_edu_inst_lastwk marital_status          major_industry_code  \\\n",
       "0             Not in universe        Widowed  Not in universe or children   \n",
       "1             Not in universe       Divorced                 Construction   \n",
       "2                 High school  Never married  Not in universe or children   \n",
       "3             Not in universe  Never married  Not in universe or children   \n",
       "4             Not in universe  Never married  Not in universe or children   \n",
       "\n",
       "                 major_occupation_code                       race  \\\n",
       "0                      Not in universe                      White   \n",
       "1  Precision production craft & repair                      White   \n",
       "2                      Not in universe  Asian or Pacific Islander   \n",
       "3                      Not in universe                      White   \n",
       "4                      Not in universe                      White   \n",
       "\n",
       "  hispanic_origin     sex member_of_labor_union  \\\n",
       "0       All other  Female       Not in universe   \n",
       "1       All other    Male       Not in universe   \n",
       "2       All other  Female       Not in universe   \n",
       "3       All other  Female       Not in universe   \n",
       "4       All other  Female       Not in universe   \n",
       "\n",
       "                ...                state_of_previous_residence  \\\n",
       "0               ...                            Not in universe   \n",
       "1               ...                                   Arkansas   \n",
       "2               ...                            Not in universe   \n",
       "3               ...                            Not in universe   \n",
       "4               ...                            Not in universe   \n",
       "\n",
       "                    d_household_family_stat            d_household_summary  \\\n",
       "0  Other Rel 18+ ever marr not in subfamily  Other relative of householder   \n",
       "1                               Householder                    Householder   \n",
       "2   Child 18+ never marr Not in a subfamily              Child 18 or older   \n",
       "3     Child <18 never marr not in subfamily   Child under 18 never married   \n",
       "4     Child <18 never marr not in subfamily   Child under 18 never married   \n",
       "\n",
       "                    live_1_year_ago family_members_under_18 country_father  \\\n",
       "0  Not in universe under 1 year old         Not in universe  United-States   \n",
       "1                                No         Not in universe  United-States   \n",
       "2  Not in universe under 1 year old         Not in universe        Vietnam   \n",
       "3                               Yes    Both parents present  United-States   \n",
       "4                               Yes    Both parents present  United-States   \n",
       "\n",
       "  country_mother   country_self                         citizenship  \\\n",
       "0  United-States  United-States   Native- Born in the United States   \n",
       "1  United-States  United-States   Native- Born in the United States   \n",
       "2        Vietnam        Vietnam  Foreign born- Not a citizen of U S   \n",
       "3  United-States  United-States   Native- Born in the United States   \n",
       "4  United-States  United-States   Native- Born in the United States   \n",
       "\n",
       "  fill_questionnaire_veteran_admin  \n",
       "0                  Not in universe  \n",
       "1                  Not in universe  \n",
       "2                  Not in universe  \n",
       "3                  Not in universe  \n",
       "4                  Not in universe  \n",
       "\n",
       "[5 rows x 24 columns]"
      ]
     },
     "execution_count": 36,
     "metadata": {},
     "output_type": "execute_result"
    }
   ],
   "source": [
    "train_str.head()"
   ]
  },
  {
   "cell_type": "code",
   "execution_count": 37,
   "metadata": {
    "collapsed": false
   },
   "outputs": [
    {
     "name": "stdout",
     "output_type": "stream",
     "text": [
      "Done\n"
     ]
    }
   ],
   "source": [
    "for col in train_str.columns:\n",
    "    temp=train_str[col].value_counts()/len(train_str)*100<5\n",
    "    uniqList=[]\n",
    "    for indx in temp.index:\n",
    "        if temp[indx] == True:\n",
    "            uniqList.append(indx)\n",
    "    for x in uniqList:\n",
    "        index = 0\n",
    "        for y in train_str[col]:\n",
    "            if x.strip() == y.strip():\n",
    "                \n",
    "                train_str[col].iloc[index]='Other'\n",
    "                index=index+1\n",
    "            else:\n",
    "                index=index+1\n",
    "print 'Done'"
   ]
  },
  {
   "cell_type": "code",
   "execution_count": 38,
   "metadata": {
    "collapsed": false
   },
   "outputs": [],
   "source": [
    "train_str_1=train_str.apply(lambda x:x.str.strip(),axis=1)\n",
    "test_str_1=test_str.apply(lambda x:x.str.strip(),axis=1)"
   ]
  },
  {
   "cell_type": "code",
   "execution_count": 39,
   "metadata": {
    "collapsed": false
   },
   "outputs": [
    {
     "name": "stdout",
     "output_type": "stream",
     "text": [
      "Fine\n"
     ]
    }
   ],
   "source": [
    "# Test for categorical levels in train and test data\n",
    "Done=0\n",
    "for train_1 in train_str_1.columns:\n",
    "#for test in test_str.columns:\n",
    "    temp_train=train_str_1[train_1].value_counts().index\n",
    "    temp_test=test_str_1[train_1].value_counts().index\n",
    "    if all(temp_train.isin(temp_test)) == True :\n",
    "        Done=\"Fine\"\n",
    "    else:\n",
    "        print train\n",
    "        Done=\"wrong\"\n",
    "                    \n",
    "print Done                 "
   ]
  },
  {
   "cell_type": "code",
   "execution_count": 40,
   "metadata": {
    "collapsed": false
   },
   "outputs": [
    {
     "data": {
      "text/plain": [
       "Not in universe    50079\n",
       "Private            36071\n",
       "Other              13612\n",
       "Name: class_of_worker, dtype: int64"
      ]
     },
     "execution_count": 40,
     "metadata": {},
     "output_type": "execute_result"
    }
   ],
   "source": [
    "test_str_1=test_str.apply(lambda x:x.str.strip(),axis=1)\n",
    "test_str_1.class_of_worker.value_counts()"
   ]
  },
  {
   "cell_type": "code",
   "execution_count": 41,
   "metadata": {
    "collapsed": false
   },
   "outputs": [],
   "source": [
    "#remove dependent variable for train_num\n",
    "train_y=train_num.income_level\n",
    "train_num.drop('income_level',axis=1,inplace=True)"
   ]
  },
  {
   "cell_type": "code",
   "execution_count": 42,
   "metadata": {
    "collapsed": false
   },
   "outputs": [],
   "source": [
    "test_y=test_num.income_level\n",
    "test_num.drop('income_level',axis=1,inplace=True)"
   ]
  },
  {
   "cell_type": "code",
   "execution_count": 43,
   "metadata": {
    "collapsed": false
   },
   "outputs": [
    {
     "data": {
      "text/plain": [
       "(199523, 11)"
      ]
     },
     "execution_count": 43,
     "metadata": {},
     "output_type": "execute_result"
    }
   ],
   "source": [
    "train_num.shape"
   ]
  },
  {
   "cell_type": "code",
   "execution_count": 44,
   "metadata": {
    "collapsed": false
   },
   "outputs": [
    {
     "data": {
      "text/plain": [
       "(99762, 28)"
      ]
     },
     "execution_count": 44,
     "metadata": {},
     "output_type": "execute_result"
    }
   ],
   "source": [
    "test_str_1.shape"
   ]
  },
  {
   "cell_type": "code",
   "execution_count": null,
   "metadata": {
    "collapsed": true
   },
   "outputs": [],
   "source": []
  },
  {
   "cell_type": "code",
   "execution_count": 45,
   "metadata": {
    "collapsed": false
   },
   "outputs": [],
   "source": [
    "train_num_col=train_num.columns\n",
    "test_num_col=test_num.columns"
   ]
  },
  {
   "cell_type": "code",
   "execution_count": 46,
   "metadata": {
    "collapsed": false
   },
   "outputs": [
    {
     "data": {
      "text/plain": [
       "age                           False\n",
       "industry_code                 False\n",
       "occupation_code               False\n",
       "wage_per_hour                 False\n",
       "capital_gains                 False\n",
       "capital_losses                False\n",
       "dividend_from_Stocks          False\n",
       "num_person_Worked_employer    False\n",
       "business_or_self_employed     False\n",
       "veterans_benefits             False\n",
       "year                          False\n",
       "dtype: bool"
      ]
     },
     "execution_count": 46,
     "metadata": {},
     "output_type": "execute_result"
    }
   ],
   "source": [
    "train_num.var()== 0"
   ]
  },
  {
   "cell_type": "code",
   "execution_count": 47,
   "metadata": {
    "collapsed": false
   },
   "outputs": [
    {
     "data": {
      "text/plain": [
       "age                           False\n",
       "industry_code                 False\n",
       "occupation_code               False\n",
       "wage_per_hour                 False\n",
       "capital_gains                 False\n",
       "capital_losses                False\n",
       "dividend_from_Stocks          False\n",
       "num_person_Worked_employer    False\n",
       "business_or_self_employed     False\n",
       "veterans_benefits             False\n",
       "year                          False\n",
       "dtype: bool"
      ]
     },
     "execution_count": 47,
     "metadata": {},
     "output_type": "execute_result"
    }
   ],
   "source": [
    "test_num.var() == 0"
   ]
  },
  {
   "cell_type": "code",
   "execution_count": null,
   "metadata": {
    "collapsed": true
   },
   "outputs": [],
   "source": []
  },
  {
   "cell_type": "code",
   "execution_count": 48,
   "metadata": {
    "collapsed": false
   },
   "outputs": [
    {
     "data": {
      "text/plain": [
       "Index([u'class_of_worker', u'education', u'enrolled_in_edu_inst_lastwk',\n",
       "       u'marital_status', u'major_industry_code', u'major_occupation_code',\n",
       "       u'race', u'hispanic_origin', u'sex', u'member_of_labor_union',\n",
       "       u'reason_for_unemployment', u'full_parttime_employment_stat',\n",
       "       u'tax_filer_status', u'region_of_previous_residence',\n",
       "       u'state_of_previous_residence', u'd_household_family_stat',\n",
       "       u'd_household_summary', u'live_1_year_ago', u'family_members_under_18',\n",
       "       u'country_father', u'country_mother', u'country_self', u'citizenship',\n",
       "       u'fill_questionnaire_veteran_admin'],\n",
       "      dtype='object')"
      ]
     },
     "execution_count": 48,
     "metadata": {},
     "output_type": "execute_result"
    }
   ],
   "source": [
    "train_str.columns"
   ]
  },
  {
   "cell_type": "code",
   "execution_count": 49,
   "metadata": {
    "collapsed": false
   },
   "outputs": [],
   "source": [
    "def LabelEncode(dataframe_train,dataframe_test):\n",
    "    cv_1 = LabelEncoder()\n",
    "    for col in dataframe_train.columns:\n",
    "        cv_1.fit(dataframe_train[col])\n",
    "        dataframe_train[col]=cv_1.transform(dataframe_train[col])\n",
    "        dataframe_test[col]=cv_1.transform(dataframe_test[col])\n",
    "    return \"Done\""
   ]
  },
  {
   "cell_type": "code",
   "execution_count": null,
   "metadata": {
    "collapsed": false
   },
   "outputs": [],
   "source": []
  },
  {
   "cell_type": "code",
   "execution_count": 50,
   "metadata": {
    "collapsed": false
   },
   "outputs": [
    {
     "data": {
      "text/plain": [
       "'Done'"
      ]
     },
     "execution_count": 50,
     "metadata": {},
     "output_type": "execute_result"
    }
   ],
   "source": [
    "LabelEncode(train_str_1,test_str_1)"
   ]
  },
  {
   "cell_type": "code",
   "execution_count": 51,
   "metadata": {
    "collapsed": false
   },
   "outputs": [
    {
     "data": {
      "text/plain": [
       " Not in universe    50079\n",
       " Private            36071\n",
       "Other               13612\n",
       "Name: class_of_worker, dtype: int64"
      ]
     },
     "execution_count": 51,
     "metadata": {},
     "output_type": "execute_result"
    }
   ],
   "source": [
    "test_str.class_of_worker.value_counts()"
   ]
  },
  {
   "cell_type": "code",
   "execution_count": 52,
   "metadata": {
    "collapsed": false
   },
   "outputs": [
    {
     "data": {
      "text/plain": [
       "Not in universe    100245\n",
       "Private             72028\n",
       "Other               27250\n",
       "Name: class_of_worker, dtype: int64"
      ]
     },
     "execution_count": 52,
     "metadata": {},
     "output_type": "execute_result"
    }
   ],
   "source": [
    "train_str.class_of_worker.value_counts()"
   ]
  },
  {
   "cell_type": "code",
   "execution_count": 53,
   "metadata": {
    "collapsed": false
   },
   "outputs": [],
   "source": [
    "train_d = pd.concat([train_str_1,train_num],axis=1)\n",
    "test_d = pd.concat([test_str_1,test_num],axis=1)"
   ]
  },
  {
   "cell_type": "code",
   "execution_count": 54,
   "metadata": {
    "collapsed": true
   },
   "outputs": [],
   "source": [
    "test_d.drop(['migration_msa','migration_reg','migration_within_reg','migration_sunbelt'],axis=1,inplace=True)"
   ]
  },
  {
   "cell_type": "code",
   "execution_count": 55,
   "metadata": {
    "collapsed": false
   },
   "outputs": [
    {
     "data": {
      "text/plain": [
       "(99762, 35)"
      ]
     },
     "execution_count": 55,
     "metadata": {},
     "output_type": "execute_result"
    }
   ],
   "source": [
    "test_d.shape"
   ]
  },
  {
   "cell_type": "code",
   "execution_count": 56,
   "metadata": {
    "collapsed": false
   },
   "outputs": [],
   "source": [
    "from imblearn.over_sampling import RandomOverSampler \n",
    "from imblearn.under_sampling import RandomUnderSampler\n",
    "from imblearn.over_sampling import SMOTE"
   ]
  },
  {
   "cell_type": "code",
   "execution_count": 57,
   "metadata": {
    "collapsed": false
   },
   "outputs": [
    {
     "data": {
      "text/plain": [
       "0    187141\n",
       "1     12382\n",
       "Name: income_level, dtype: int64"
      ]
     },
     "execution_count": 57,
     "metadata": {},
     "output_type": "execute_result"
    }
   ],
   "source": [
    "train_y.value_counts()\n"
   ]
  },
  {
   "cell_type": "code",
   "execution_count": 58,
   "metadata": {
    "collapsed": false
   },
   "outputs": [],
   "source": [
    "#Under sampling\n",
    "rnd=RandomUnderSampler(random_state=0,replacement=True)\n",
    "train_X_un,train_y_un=rnd.fit_sample(train_d,train_y)"
   ]
  },
  {
   "cell_type": "code",
   "execution_count": 59,
   "metadata": {
    "collapsed": false
   },
   "outputs": [
    {
     "data": {
      "text/plain": [
       "Counter({0: 12382, 1: 12382})"
      ]
     },
     "execution_count": 59,
     "metadata": {},
     "output_type": "execute_result"
    }
   ],
   "source": [
    "from collections import Counter\n",
    "(Counter(train_y_un))"
   ]
  },
  {
   "cell_type": "code",
   "execution_count": 60,
   "metadata": {
    "collapsed": false
   },
   "outputs": [],
   "source": [
    "#over sampling\n",
    "rnd_ov=RandomOverSampler(random_state=0)\n",
    "train_X_ov,train_y_ov=rnd_ov.fit_sample(train_d,train_y)"
   ]
  },
  {
   "cell_type": "code",
   "execution_count": 61,
   "metadata": {
    "collapsed": false
   },
   "outputs": [
    {
     "data": {
      "text/plain": [
       "Counter({0: 187141, 1: 187141})"
      ]
     },
     "execution_count": 61,
     "metadata": {},
     "output_type": "execute_result"
    }
   ],
   "source": [
    "Counter(train_y_ov)"
   ]
  },
  {
   "cell_type": "code",
   "execution_count": 62,
   "metadata": {
    "collapsed": false
   },
   "outputs": [
    {
     "name": "stderr",
     "output_type": "stream",
     "text": [
      "C:\\Program Files\\Anaconda2\\lib\\site-packages\\imblearn\\utils\\deprecation.py:50: DeprecationWarning: 'k' is deprecated from 0.2 and will be removed in 0.4. Use 'k_neighbors' instead.\n",
      "  category=DeprecationWarning)\n",
      "C:\\Program Files\\Anaconda2\\lib\\site-packages\\imblearn\\utils\\deprecation.py:50: DeprecationWarning: 'm' is deprecated from 0.2 and will be removed in 0.4. Use 'm_neighbors' instead.\n",
      "  category=DeprecationWarning)\n"
     ]
    }
   ],
   "source": [
    "# SMOTE\n",
    "rnd_sm=SMOTE(random_state=0,kind='borderline2',k=10,k_neighbors=10,m=10,m_neighbors=10)\n",
    "train_X_sm,train_y_sm=rnd_sm.fit_sample(train_d,train_y)"
   ]
  },
  {
   "cell_type": "code",
   "execution_count": 63,
   "metadata": {
    "collapsed": false
   },
   "outputs": [
    {
     "data": {
      "text/plain": [
       "Counter({0: 187141, 1: 187141})"
      ]
     },
     "execution_count": 63,
     "metadata": {},
     "output_type": "execute_result"
    }
   ],
   "source": [
    "Counter(train_y_sm)"
   ]
  },
  {
   "cell_type": "code",
   "execution_count": 64,
   "metadata": {
    "collapsed": false
   },
   "outputs": [],
   "source": [
    "from sklearn.naive_bayes import BernoulliNB,MultinomialNB\n",
    "from sklearn.model_selection import KFold,cross_val_score,StratifiedKFold,cross_val_predict,GridSearchCV\n"
   ]
  },
  {
   "cell_type": "code",
   "execution_count": 65,
   "metadata": {
    "collapsed": false
   },
   "outputs": [
    {
     "data": {
      "text/plain": [
       "StratifiedKFold(n_splits=10, random_state=0, shuffle=False)"
      ]
     },
     "execution_count": 65,
     "metadata": {},
     "output_type": "execute_result"
    }
   ],
   "source": [
    "st=StratifiedKFold(n_splits=10,random_state=0)\n",
    "st"
   ]
  },
  {
   "cell_type": "code",
   "execution_count": 66,
   "metadata": {
    "collapsed": false
   },
   "outputs": [],
   "source": [
    "def cross_val_fun(train_x,train_Y):\n",
    "   \n",
    "    return cross_val_score(BernoulliNB(),train_x,train_Y,cv=st,scoring='accuracy').mean()\n",
    "    "
   ]
  },
  {
   "cell_type": "code",
   "execution_count": 67,
   "metadata": {
    "collapsed": false
   },
   "outputs": [
    {
     "name": "stdout",
     "output_type": "stream",
     "text": [
      "under:  0.772935662587\n",
      "Over:  0.772024856145\n",
      "SMOTE:  0.821939239593\n"
     ]
    }
   ],
   "source": [
    "print 'under: ' , cross_val_fun(train_X_un,train_y_un)\n",
    "print 'Over: ',cross_val_fun(train_X_ov,train_y_ov)\n",
    "print 'SMOTE: ',cross_val_fun(train_X_sm,train_y_sm)"
   ]
  },
  {
   "cell_type": "code",
   "execution_count": null,
   "metadata": {
    "collapsed": false
   },
   "outputs": [],
   "source": [
    "\n"
   ]
  },
  {
   "cell_type": "code",
   "execution_count": 68,
   "metadata": {
    "collapsed": false
   },
   "outputs": [
    {
     "data": {
      "text/plain": [
       "(374282L, 35L)"
      ]
     },
     "execution_count": 68,
     "metadata": {},
     "output_type": "execute_result"
    }
   ],
   "source": [
    "train_X_sm.shape"
   ]
  },
  {
   "cell_type": "code",
   "execution_count": 69,
   "metadata": {
    "collapsed": false
   },
   "outputs": [],
   "source": [
    "#SMOKE\n",
    "\n",
    "gr=BernoulliNB()\n",
    "gr.fit(train_X_sm,train_y_sm)\n",
    "predictions=gr.predict(test_d)"
   ]
  },
  {
   "cell_type": "code",
   "execution_count": 70,
   "metadata": {
    "collapsed": false
   },
   "outputs": [],
   "source": [
    "from sklearn.metrics import accuracy_score,classification_report,confusion_matrix,f1_score"
   ]
  },
  {
   "cell_type": "code",
   "execution_count": 71,
   "metadata": {
    "collapsed": false
   },
   "outputs": [
    {
     "name": "stdout",
     "output_type": "stream",
     "text": [
      "0.700156372166\n"
     ]
    }
   ],
   "source": [
    "accuracy = accuracy_score(test_y,predictions)\n",
    "print accuracy"
   ]
  },
  {
   "cell_type": "code",
   "execution_count": 72,
   "metadata": {
    "collapsed": false
   },
   "outputs": [
    {
     "data": {
      "text/plain": [
       "Counter({0: 93576, 1: 6186})"
      ]
     },
     "execution_count": 72,
     "metadata": {},
     "output_type": "execute_result"
    }
   ],
   "source": [
    "Counter(test_y)"
   ]
  },
  {
   "cell_type": "code",
   "execution_count": 73,
   "metadata": {
    "collapsed": false
   },
   "outputs": [
    {
     "data": {
      "text/plain": [
       "Counter({0: 65311, 1: 34451})"
      ]
     },
     "execution_count": 73,
     "metadata": {},
     "output_type": "execute_result"
    }
   ],
   "source": [
    "Counter(predictions)"
   ]
  },
  {
   "cell_type": "code",
   "execution_count": 74,
   "metadata": {
    "collapsed": false
   },
   "outputs": [
    {
     "data": {
      "text/plain": [
       "array([29089,  5362], dtype=int64)"
      ]
     },
     "execution_count": 74,
     "metadata": {},
     "output_type": "execute_result"
    }
   ],
   "source": [
    "conf_matrix=confusion_matrix(test_y,predictions)\n",
    "conf_matrix[:,1]"
   ]
  },
  {
   "cell_type": "code",
   "execution_count": 75,
   "metadata": {
    "collapsed": false
   },
   "outputs": [
    {
     "data": {
      "text/html": [
       "<div>\n",
       "<style>\n",
       "    .dataframe thead tr:only-child th {\n",
       "        text-align: right;\n",
       "    }\n",
       "\n",
       "    .dataframe thead th {\n",
       "        text-align: left;\n",
       "    }\n",
       "\n",
       "    .dataframe tbody tr th {\n",
       "        vertical-align: top;\n",
       "    }\n",
       "</style>\n",
       "<table border=\"1\" class=\"dataframe\">\n",
       "  <thead>\n",
       "    <tr style=\"text-align: right;\">\n",
       "      <th>Predictions</th>\n",
       "      <th>0</th>\n",
       "      <th>1</th>\n",
       "      <th>All</th>\n",
       "    </tr>\n",
       "    <tr>\n",
       "      <th>True</th>\n",
       "      <th></th>\n",
       "      <th></th>\n",
       "      <th></th>\n",
       "    </tr>\n",
       "  </thead>\n",
       "  <tbody>\n",
       "    <tr>\n",
       "      <th>0</th>\n",
       "      <td>64487</td>\n",
       "      <td>29089</td>\n",
       "      <td>93576</td>\n",
       "    </tr>\n",
       "    <tr>\n",
       "      <th>1</th>\n",
       "      <td>824</td>\n",
       "      <td>5362</td>\n",
       "      <td>6186</td>\n",
       "    </tr>\n",
       "    <tr>\n",
       "      <th>All</th>\n",
       "      <td>65311</td>\n",
       "      <td>34451</td>\n",
       "      <td>99762</td>\n",
       "    </tr>\n",
       "  </tbody>\n",
       "</table>\n",
       "</div>"
      ],
      "text/plain": [
       "Predictions      0      1    All\n",
       "True                            \n",
       "0            64487  29089  93576\n",
       "1              824   5362   6186\n",
       "All          65311  34451  99762"
      ]
     },
     "execution_count": 75,
     "metadata": {},
     "output_type": "execute_result"
    }
   ],
   "source": [
    "pd.crosstab(test_y,predictions,rownames=[\"True\"],colnames=[\"Predictions\"],margins=True)"
   ]
  },
  {
   "cell_type": "code",
   "execution_count": 76,
   "metadata": {
    "collapsed": false
   },
   "outputs": [
    {
     "name": "stdout",
     "output_type": "stream",
     "text": [
      "             precision    recall  f1-score   support\n",
      "\n",
      "          0       0.99      0.69      0.81     93576\n",
      "          1       0.16      0.87      0.26      6186\n",
      "\n",
      "avg / total       0.94      0.70      0.78     99762\n",
      "\n"
     ]
    }
   ],
   "source": [
    "print classification_report(test_y,predictions)"
   ]
  },
  {
   "cell_type": "code",
   "execution_count": 77,
   "metadata": {
    "collapsed": false
   },
   "outputs": [
    {
     "name": "stdout",
     "output_type": "stream",
     "text": [
      "accuracy 0.700156372166\n"
     ]
    }
   ],
   "source": [
    "from sklearn.model_selection import GridSearchCV\n",
    "\n",
    "grid_param={'alpha':range(1,10),'fit_prior':[True,False]}\n",
    "grid=GridSearchCV(BernoulliNB(),param_grid=grid_param,cv=st,scoring='accuracy')\n",
    "grid.fit(train_X_sm,train_y_sm)\n",
    "pred_grid=grid.predict(test_d)\n",
    "print 'accuracy',accuracy_score(test_y,pred_grid)"
   ]
  },
  {
   "cell_type": "code",
   "execution_count": 78,
   "metadata": {
    "collapsed": false
   },
   "outputs": [
    {
     "name": "stdout",
     "output_type": "stream",
     "text": [
      "classification report \n",
      "             precision    recall  f1-score   support\n",
      "\n",
      "          0       0.99      0.69      0.81     93576\n",
      "          1       0.16      0.87      0.26      6186\n",
      "\n",
      "avg / total       0.94      0.70      0.78     99762\n",
      "\n"
     ]
    }
   ],
   "source": [
    "print 'classification report \\n',classification_report(test_y,pred_grid)"
   ]
  },
  {
   "cell_type": "code",
   "execution_count": 79,
   "metadata": {
    "collapsed": false
   },
   "outputs": [
    {
     "data": {
      "text/html": [
       "<div>\n",
       "<style>\n",
       "    .dataframe thead tr:only-child th {\n",
       "        text-align: right;\n",
       "    }\n",
       "\n",
       "    .dataframe thead th {\n",
       "        text-align: left;\n",
       "    }\n",
       "\n",
       "    .dataframe tbody tr th {\n",
       "        vertical-align: top;\n",
       "    }\n",
       "</style>\n",
       "<table border=\"1\" class=\"dataframe\">\n",
       "  <thead>\n",
       "    <tr style=\"text-align: right;\">\n",
       "      <th>Predicted</th>\n",
       "      <th>0</th>\n",
       "      <th>1</th>\n",
       "      <th>All</th>\n",
       "    </tr>\n",
       "    <tr>\n",
       "      <th>True</th>\n",
       "      <th></th>\n",
       "      <th></th>\n",
       "      <th></th>\n",
       "    </tr>\n",
       "  </thead>\n",
       "  <tbody>\n",
       "    <tr>\n",
       "      <th>0</th>\n",
       "      <td>64487</td>\n",
       "      <td>29089</td>\n",
       "      <td>93576</td>\n",
       "    </tr>\n",
       "    <tr>\n",
       "      <th>1</th>\n",
       "      <td>824</td>\n",
       "      <td>5362</td>\n",
       "      <td>6186</td>\n",
       "    </tr>\n",
       "    <tr>\n",
       "      <th>All</th>\n",
       "      <td>65311</td>\n",
       "      <td>34451</td>\n",
       "      <td>99762</td>\n",
       "    </tr>\n",
       "  </tbody>\n",
       "</table>\n",
       "</div>"
      ],
      "text/plain": [
       "Predicted      0      1    All\n",
       "True                          \n",
       "0          64487  29089  93576\n",
       "1            824   5362   6186\n",
       "All        65311  34451  99762"
      ]
     },
     "execution_count": 79,
     "metadata": {},
     "output_type": "execute_result"
    }
   ],
   "source": [
    "pd.crosstab(test_y,pred_grid,rownames=['True'],colnames=['Predicted'],margins=True)"
   ]
  },
  {
   "cell_type": "code",
   "execution_count": 80,
   "metadata": {
    "collapsed": true
   },
   "outputs": [],
   "source": [
    "#Tree based Models\n",
    "from sklearn.ensemble import RandomForestClassifier"
   ]
  },
  {
   "cell_type": "code",
   "execution_count": 81,
   "metadata": {
    "collapsed": false
   },
   "outputs": [
    {
     "name": "stderr",
     "output_type": "stream",
     "text": [
      "[Parallel(n_jobs=1)]: Done 100 out of 100 | elapsed:  1.8min finished\n",
      "[Parallel(n_jobs=1)]: Done 100 out of 100 | elapsed:    2.9s finished\n"
     ]
    }
   ],
   "source": [
    "#SMOTE\n",
    "rand_forest=RandomForestClassifier(n_estimators=100,random_state=0,verbose=1)\n",
    "rand_forest.fit(train_X_sm,train_y_sm)\n",
    "rand_predictions=rand_forest.predict(test_d)"
   ]
  },
  {
   "cell_type": "code",
   "execution_count": 82,
   "metadata": {
    "collapsed": false
   },
   "outputs": [
    {
     "name": "stdout",
     "output_type": "stream",
     "text": [
      "accuracy of RandomForest 0.94858763858\n"
     ]
    }
   ],
   "source": [
    "print 'accuracy of RandomForest',accuracy_score(test_y,rand_predictions)"
   ]
  },
  {
   "cell_type": "code",
   "execution_count": null,
   "metadata": {
    "collapsed": false
   },
   "outputs": [],
   "source": []
  },
  {
   "cell_type": "code",
   "execution_count": null,
   "metadata": {
    "collapsed": true
   },
   "outputs": [],
   "source": []
  },
  {
   "cell_type": "code",
   "execution_count": null,
   "metadata": {
    "collapsed": true
   },
   "outputs": [],
   "source": []
  },
  {
   "cell_type": "code",
   "execution_count": 83,
   "metadata": {
    "collapsed": false
   },
   "outputs": [],
   "source": [
    "import xgboost as xgb\n",
    "from xgboost.sklearn import XGBClassifier\n",
    "from sklearn import metrics"
   ]
  },
  {
   "cell_type": "code",
   "execution_count": 84,
   "metadata": {
    "collapsed": false
   },
   "outputs": [],
   "source": [
    "def modelfit(arg,train_X_sm,train_y_sm,test_X,test_y,useTrainCV=True,cv_folds=5,early_stoping_rounds=50):\n",
    "    if useTrainCV:\n",
    "        xgb_params=arg.get_xgb_params()\n",
    "        xtrain=xgb.DMatrix(train_X_sm,label=train_y_sm)\n",
    "        cvresult=xgb.cv(xgb_params,xtrain,nfold=cv_folds,early_stopping_rounds=early_stoping_rounds,num_boost_round=arg.get_params()['n_estimators'],metrics='auc')\n",
    "        #print cvresult\n",
    "        arg.set_params(n_estimators=cvresult.shape[0])\n",
    "        \n",
    "    arg.fit(train_X_sm,train_y_sm,eval_metric='auc')\n",
    "    #Predict training set:\n",
    "    dtrain_predictions = arg.predict(test_X)\n",
    "    dtrain_predprob = arg.predict_proba(test_X)[:,1]\n",
    "        \n",
    "    #Print model report:\n",
    "    print \"\\nModel Report\"\n",
    "    print \"Accuracy : %.4g\" % metrics.accuracy_score(test_y, dtrain_predictions)\n",
    "    print \"AUC Score (Test): %f\" % metrics.roc_auc_score(test_y, dtrain_predprob)\n",
    "                    \n",
    "    feat_imp = pd.Series(arg.booster().get_fscore()).sort_values(ascending=False)\n",
    "    feat_imp.plot(kind='bar', title='Feature Importances')\n",
    "    plt.ylabel('Feature Importance Score')"
   ]
  },
  {
   "cell_type": "code",
   "execution_count": 85,
   "metadata": {
    "collapsed": false
   },
   "outputs": [
    {
     "name": "stdout",
     "output_type": "stream",
     "text": [
      "\n",
      "Model Report\n",
      "Accuracy : 0.9573\n",
      "AUC Score (Test): 0.954280\n"
     ]
    },
    {
     "data": {
      "image/png": "[encoded data removed]",
      "text/plain": [
       "<matplotlib.figure.Figure at 0x3805bcf8>"
      ]
     },
     "metadata": {},
     "output_type": "display_data"
    }
   ],
   "source": [
    "xgb1 = XGBClassifier(\n",
    " learning_rate =0.1,\n",
    " n_estimators=1000,\n",
    " max_depth=5,\n",
    " min_child_weight=1,\n",
    " gamma=0,\n",
    " subsample=0.8,\n",
    " colsample_bytree=0.8,\n",
    " objective= 'binary:logistic',\n",
    " nthread=4,\n",
    " scale_pos_weight=1,\n",
    " seed=27)\n",
    "modelfit(xgb1, train_d, train_y,test_d,test_y)"
   ]
  },
  {
   "cell_type": "code",
   "execution_count": 86,
   "metadata": {
    "collapsed": false
   },
   "outputs": [],
   "source": [
    "test_predictions=xgb1.predict(test_d)\n",
    "test_proba=xgb1.predict_proba(test_d)"
   ]
  },
  {
   "cell_type": "code",
   "execution_count": 87,
   "metadata": {
    "collapsed": false
   },
   "outputs": [
    {
     "data": {
      "text/plain": [
       "XGBClassifier(base_score=0.5, colsample_bylevel=1, colsample_bytree=0.8,\n",
       "       gamma=0, learning_rate=0.1, max_delta_step=0, max_depth=5,\n",
       "       min_child_weight=1, missing=None, n_estimators=425, nthread=4,\n",
       "       objective='binary:logistic', reg_alpha=0, reg_lambda=1,\n",
       "       scale_pos_weight=1, seed=27, silent=True, subsample=0.8)"
      ]
     },
     "execution_count": 87,
     "metadata": {},
     "output_type": "execute_result"
    }
   ],
   "source": [
    "xgb1.set_params()"
   ]
  },
  {
   "cell_type": "code",
   "execution_count": 88,
   "metadata": {
    "collapsed": false
   },
   "outputs": [
    {
     "name": "stdout",
     "output_type": "stream",
     "text": [
      "accuracy on Test data:  0.957258274694\n",
      "roc auc score:  0.954280168672\n"
     ]
    }
   ],
   "source": [
    "print 'accuracy on Test data: ',accuracy_score(test_y,test_predictions)\n",
    "print 'roc auc score: ',metrics.roc_auc_score(test_y,test_proba[:,1])"
   ]
  },
  {
   "cell_type": "code",
   "execution_count": 89,
   "metadata": {
    "collapsed": false,
    "scrolled": true
   },
   "outputs": [
    {
     "name": "stderr",
     "output_type": "stream",
     "text": [
      "C:\\Program Files\\Anaconda2\\lib\\site-packages\\sklearn\\model_selection\\_search.py:747: DeprecationWarning: The grid_scores_ attribute was deprecated in version 0.18 in favor of the more elaborate cv_results_ attribute. The grid_scores_ attribute will not be available from 0.20\n",
      "  DeprecationWarning)\n"
     ]
    },
    {
     "data": {
      "text/plain": [
       "([mean: 0.94988, std: 0.00213, params: {'max_depth': 3, 'min_child_weight': 1},\n",
       "  mean: 0.94988, std: 0.00212, params: {'max_depth': 3, 'min_child_weight': 3},\n",
       "  mean: 0.94993, std: 0.00228, params: {'max_depth': 3, 'min_child_weight': 5},\n",
       "  mean: 0.95177, std: 0.00217, params: {'max_depth': 5, 'min_child_weight': 1},\n",
       "  mean: 0.95153, std: 0.00219, params: {'max_depth': 5, 'min_child_weight': 3},\n",
       "  mean: 0.95166, std: 0.00216, params: {'max_depth': 5, 'min_child_weight': 5},\n",
       "  mean: 0.95053, std: 0.00244, params: {'max_depth': 7, 'min_child_weight': 1},\n",
       "  mean: 0.95068, std: 0.00241, params: {'max_depth': 7, 'min_child_weight': 3},\n",
       "  mean: 0.95071, std: 0.00239, params: {'max_depth': 7, 'min_child_weight': 5},\n",
       "  mean: 0.94772, std: 0.00270, params: {'max_depth': 9, 'min_child_weight': 1},\n",
       "  mean: 0.94859, std: 0.00237, params: {'max_depth': 9, 'min_child_weight': 3},\n",
       "  mean: 0.94903, std: 0.00253, params: {'max_depth': 9, 'min_child_weight': 5}],\n",
       " {'max_depth': 5, 'min_child_weight': 1},\n",
       " 0.95176795647714574)"
      ]
     },
     "execution_count": 89,
     "metadata": {},
     "output_type": "execute_result"
    }
   ],
   "source": [
    "#Tune max_depth and min_child_weight\n",
    "\n",
    "param_test1={\n",
    "    'max_depth':range(3,10,2),\n",
    "    'min_child_weight':range(1,6,2)\n",
    "}\n",
    "\n",
    "gsearch1= GridSearchCV(XGBClassifier(learning_rate =0.1, n_estimators=425, max_depth=5,\n",
    " min_child_weight=1, gamma=0, subsample=0.8, colsample_bytree=0.8,\n",
    " objective= 'binary:logistic', nthread=4, scale_pos_weight=1, seed=27), param_grid=param_test1,scoring='roc_auc',n_jobs=4,iid=False, cv=5)\n",
    "gsearch1.fit(train_d,train_y)\n",
    "gsearch1.grid_scores_,gsearch1.best_params_,gsearch1.best_score_"
   ]
  },
  {
   "cell_type": "code",
   "execution_count": 90,
   "metadata": {
    "collapsed": false
   },
   "outputs": [
    {
     "name": "stderr",
     "output_type": "stream",
     "text": [
      "C:\\Program Files\\Anaconda2\\lib\\site-packages\\sklearn\\model_selection\\_search.py:747: DeprecationWarning: The grid_scores_ attribute was deprecated in version 0.18 in favor of the more elaborate cv_results_ attribute. The grid_scores_ attribute will not be available from 0.20\n",
      "  DeprecationWarning)\n"
     ]
    },
    {
     "data": {
      "text/plain": [
       "([mean: 0.95133, std: 0.00211, params: {'max_depth': 4, 'min_child_weight': 1},\n",
       "  mean: 0.95145, std: 0.00215, params: {'max_depth': 4, 'min_child_weight': 2},\n",
       "  mean: 0.95130, std: 0.00217, params: {'max_depth': 4, 'min_child_weight': 3},\n",
       "  mean: 0.95177, std: 0.00217, params: {'max_depth': 5, 'min_child_weight': 1},\n",
       "  mean: 0.95188, std: 0.00202, params: {'max_depth': 5, 'min_child_weight': 2},\n",
       "  mean: 0.95153, std: 0.00219, params: {'max_depth': 5, 'min_child_weight': 3},\n",
       "  mean: 0.95149, std: 0.00224, params: {'max_depth': 6, 'min_child_weight': 1},\n",
       "  mean: 0.95137, std: 0.00224, params: {'max_depth': 6, 'min_child_weight': 2},\n",
       "  mean: 0.95118, std: 0.00236, params: {'max_depth': 6, 'min_child_weight': 3}],\n",
       " {'max_depth': 5, 'min_child_weight': 2},\n",
       " 0.9518812419357191)"
      ]
     },
     "execution_count": 90,
     "metadata": {},
     "output_type": "execute_result"
    }
   ],
   "source": [
    "\n",
    "param_test2={\n",
    "    'max_depth':[4,5,6],\n",
    "    'min_child_weight':[1,2,3]\n",
    "}\n",
    "\n",
    "gsearch2= GridSearchCV(XGBClassifier(learning_rate =0.1, n_estimators=425, max_depth=5,\n",
    " min_child_weight=1, gamma=0, subsample=0.8, colsample_bytree=0.8,\n",
    " objective= 'binary:logistic', nthread=4, scale_pos_weight=1, seed=27), param_grid=param_test2,scoring='roc_auc',n_jobs=4,iid=False, cv=5)\n",
    "gsearch2.fit(train_d,train_y)\n",
    "gsearch2.grid_scores_,gsearch2.best_params_,gsearch2.best_score_"
   ]
  },
  {
   "cell_type": "code",
   "execution_count": 91,
   "metadata": {
    "collapsed": false
   },
   "outputs": [
    {
     "name": "stderr",
     "output_type": "stream",
     "text": [
      "C:\\Program Files\\Anaconda2\\lib\\site-packages\\sklearn\\model_selection\\_search.py:747: DeprecationWarning: The grid_scores_ attribute was deprecated in version 0.18 in favor of the more elaborate cv_results_ attribute. The grid_scores_ attribute will not be available from 0.20\n",
      "  DeprecationWarning)\n"
     ]
    },
    {
     "data": {
      "text/plain": [
       "([mean: 0.95188, std: 0.00202, params: {'gamma': 0.0},\n",
       "  mean: 0.95172, std: 0.00220, params: {'gamma': 0.1},\n",
       "  mean: 0.95183, std: 0.00221, params: {'gamma': 0.2},\n",
       "  mean: 0.95178, std: 0.00218, params: {'gamma': 0.3},\n",
       "  mean: 0.95182, std: 0.00211, params: {'gamma': 0.4},\n",
       "  mean: 0.95177, std: 0.00217, params: {'gamma': 0.5},\n",
       "  mean: 0.95177, std: 0.00209, params: {'gamma': 0.6},\n",
       "  mean: 0.95183, std: 0.00217, params: {'gamma': 0.7},\n",
       "  mean: 0.95193, std: 0.00216, params: {'gamma': 0.8},\n",
       "  mean: 0.95181, std: 0.00236, params: {'gamma': 0.9}],\n",
       " {'gamma': 0.8},\n",
       " 0.95193103306887716)"
      ]
     },
     "execution_count": 91,
     "metadata": {},
     "output_type": "execute_result"
    }
   ],
   "source": [
    "#Tune gamma\n",
    "param_gamma={'gamma':[i/10.0 for i in range(0,10)]}\n",
    "gsearch3=GridSearchCV(XGBClassifier(learning_rate =0.1, n_estimators=425, max_depth=5,\n",
    " min_child_weight=2, gamma=0, subsample=0.8, colsample_bytree=0.8,\n",
    " objective= 'binary:logistic', nthread=4, scale_pos_weight=1, seed=27), param_grid=param_gamma,scoring='roc_auc',n_jobs=4,iid=False, cv=5)\n",
    "gsearch3.fit(train_d,train_y)\n",
    "gsearch3.grid_scores_,gsearch3.best_params_,gsearch3.best_score_"
   ]
  },
  {
   "cell_type": "code",
   "execution_count": 92,
   "metadata": {
    "collapsed": false
   },
   "outputs": [
    {
     "name": "stdout",
     "output_type": "stream",
     "text": [
      "\n",
      "Model Report\n",
      "Accuracy : 0.9574\n",
      "AUC Score (Test): 0.954292\n"
     ]
    },
    {
     "data": {
      "image/png": "[encoded data removed]",
      "text/plain": [
       "<matplotlib.figure.Figure at 0x2b836828>"
      ]
     },
     "metadata": {},
     "output_type": "display_data"
    }
   ],
   "source": [
    "xgb2 = XGBClassifier(\n",
    " learning_rate =0.1,\n",
    " n_estimators=1000,\n",
    " max_depth=5,\n",
    " min_child_weight=2,\n",
    " gamma=0.8,\n",
    " subsample=0.8,\n",
    " colsample_bytree=0.8,\n",
    " objective= 'binary:logistic',\n",
    " nthread=4,\n",
    " scale_pos_weight=1,\n",
    " seed=27)\n",
    "modelfit(xgb2, train_d, train_y,test_d,test_y)"
   ]
  },
  {
   "cell_type": "code",
   "execution_count": 93,
   "metadata": {
    "collapsed": false
   },
   "outputs": [
    {
     "name": "stderr",
     "output_type": "stream",
     "text": [
      "C:\\Program Files\\Anaconda2\\lib\\site-packages\\sklearn\\model_selection\\_search.py:747: DeprecationWarning: The grid_scores_ attribute was deprecated in version 0.18 in favor of the more elaborate cv_results_ attribute. The grid_scores_ attribute will not be available from 0.20\n",
      "  DeprecationWarning)\n"
     ]
    },
    {
     "data": {
      "text/plain": [
       "([mean: 0.95055, std: 0.00231, params: {'subsample': 0.6, 'colsample_bytree': 0.6},\n",
       "  mean: 0.95088, std: 0.00246, params: {'subsample': 0.7, 'colsample_bytree': 0.6},\n",
       "  mean: 0.95110, std: 0.00241, params: {'subsample': 0.8, 'colsample_bytree': 0.6},\n",
       "  mean: 0.95114, std: 0.00233, params: {'subsample': 0.9, 'colsample_bytree': 0.6},\n",
       "  mean: 0.95021, std: 0.00248, params: {'subsample': 0.6, 'colsample_bytree': 0.7},\n",
       "  mean: 0.95057, std: 0.00241, params: {'subsample': 0.7, 'colsample_bytree': 0.7},\n",
       "  mean: 0.95077, std: 0.00237, params: {'subsample': 0.8, 'colsample_bytree': 0.7},\n",
       "  mean: 0.95117, std: 0.00235, params: {'subsample': 0.9, 'colsample_bytree': 0.7},\n",
       "  mean: 0.94991, std: 0.00232, params: {'subsample': 0.6, 'colsample_bytree': 0.8},\n",
       "  mean: 0.95062, std: 0.00247, params: {'subsample': 0.7, 'colsample_bytree': 0.8},\n",
       "  mean: 0.95094, std: 0.00226, params: {'subsample': 0.8, 'colsample_bytree': 0.8},\n",
       "  mean: 0.95094, std: 0.00238, params: {'subsample': 0.9, 'colsample_bytree': 0.8},\n",
       "  mean: 0.95011, std: 0.00258, params: {'subsample': 0.6, 'colsample_bytree': 0.9},\n",
       "  mean: 0.95011, std: 0.00244, params: {'subsample': 0.7, 'colsample_bytree': 0.9},\n",
       "  mean: 0.95060, std: 0.00246, params: {'subsample': 0.8, 'colsample_bytree': 0.9},\n",
       "  mean: 0.95080, std: 0.00239, params: {'subsample': 0.9, 'colsample_bytree': 0.9}],\n",
       " {'gamma': 0.8},\n",
       " 0.95193103306887716)"
      ]
     },
     "execution_count": 93,
     "metadata": {},
     "output_type": "execute_result"
    }
   ],
   "source": [
    "#Tune colsample_bytress and subsample\n",
    "param_4={'colsample_bytree':[i/10.0 for i in range(6,10)],\n",
    "        'subsample':[i/10.0 for i in range(6,10)]}\n",
    "gsearch4=GridSearchCV(XGBClassifier(learning_rate =0.1,\n",
    " n_estimators=1000,\n",
    " max_depth=5,\n",
    " min_child_weight=2,\n",
    " gamma=0.8,\n",
    " subsample=0.8,\n",
    " colsample_bytree=0.8,\n",
    " objective= 'binary:logistic',\n",
    " nthread=4,\n",
    " scale_pos_weight=1,\n",
    " seed=27),param_grid=param_4,scoring='roc_auc',n_jobs=4,iid=False, cv=5)\n",
    "gsearch4.fit(train_d,train_y)\n",
    "gsearch4.grid_scores_,gsearch3.best_params_,gsearch3.best_score_"
   ]
  },
  {
   "cell_type": "code",
   "execution_count": null,
   "metadata": {
    "collapsed": false
   },
   "outputs": [],
   "source": []
  },
  {
   "cell_type": "code",
   "execution_count": 99,
   "metadata": {
    "collapsed": false
   },
   "outputs": [
    {
     "name": "stderr",
     "output_type": "stream",
     "text": [
      "C:\\Program Files\\Anaconda2\\lib\\site-packages\\sklearn\\model_selection\\_search.py:747: DeprecationWarning: The grid_scores_ attribute was deprecated in version 0.18 in favor of the more elaborate cv_results_ attribute. The grid_scores_ attribute will not be available from 0.20\n",
      "  DeprecationWarning)\n"
     ]
    },
    {
     "data": {
      "text/plain": [
       "([mean: 0.95092, std: 0.00225, params: {'reg_alpha': 1e-05},\n",
       "  mean: 0.95058, std: 0.00241, params: {'reg_alpha': 0.01},\n",
       "  mean: 0.95077, std: 0.00254, params: {'reg_alpha': 0.1},\n",
       "  mean: 0.95079, std: 0.00230, params: {'reg_alpha': 1},\n",
       "  mean: 0.94426, std: 0.00230, params: {'reg_alpha': 100}],\n",
       " {'reg_alpha': 1e-05},\n",
       " 0.95091520520112671)"
      ]
     },
     "execution_count": 99,
     "metadata": {},
     "output_type": "execute_result"
    }
   ],
   "source": [
    "#Tune regularization parameter\n",
    "param_5={'reg_alpha':[1e-5, 1e-2, 0.1, 1, 100]}\n",
    "gsearch5=GridSearchCV(XGBClassifier(learning_rate =0.1,\n",
    " n_estimators=1000,\n",
    " max_depth=5,\n",
    " min_child_weight=2,\n",
    " gamma=0.8,\n",
    " subsample=0.8,\n",
    " colsample_bytree=0.8,\n",
    " objective= 'binary:logistic',\n",
    " nthread=4,\n",
    " scale_pos_weight=1,\n",
    " seed=27),param_grid=param_5,scoring='roc_auc',n_jobs=4,iid=False, cv=5)\n",
    "gsearch5.fit(train_d,train_y)\n",
    "gsearch5.grid_scores_,gsearch5.best_params_,gsearch5.best_score_"
   ]
  },
  {
   "cell_type": "code",
   "execution_count": 100,
   "metadata": {
    "collapsed": false
   },
   "outputs": [
    {
     "name": "stdout",
     "output_type": "stream",
     "text": [
      "\n",
      "Model Report\n",
      "Accuracy : 0.9552\n",
      "AUC Score (Test): 0.949204\n"
     ]
    },
    {
     "data": {
      "image/png": "[encoded data removed]",
      "text/plain": [
       "<matplotlib.figure.Figure at 0x39d10828>"
      ]
     },
     "metadata": {},
     "output_type": "display_data"
    }
   ],
   "source": [
    "#Tune learning rate\n",
    "xgb2 = XGBClassifier(\n",
    " learning_rate =0.01,\n",
    " n_estimators=1000,\n",
    " max_depth=5,\n",
    " min_child_weight=2,\n",
    " gamma=0.8,\n",
    " subsample=0.8,\n",
    " colsample_bytree=0.8,\n",
    " objective= 'binary:logistic',\n",
    " nthread=4,\n",
    " scale_pos_weight=1,\n",
    " seed=27)\n",
    "modelfit(xgb2, train_d, train_y,test_d,test_y)"
   ]
  },
  {
   "cell_type": "code",
   "execution_count": null,
   "metadata": {
    "collapsed": true
   },
   "outputs": [],
   "source": []
  }
 ],
 "metadata": {
  "anaconda-cloud": {},
  "kernelspec": {
   "display_name": "Python [conda root]",
   "language": "python",
   "name": "conda-root-py"
  },
  "language_info": {
   "codemirror_mode": {
    "name": "ipython",
    "version": 2
   },
   "file_extension": ".py",
   "mimetype": "text/x-python",
   "name": "python",
   "nbconvert_exporter": "python",
   "pygments_lexer": "ipython2",
   "version": "2.7.12"
  }
 },
 "nbformat": 4,
 "nbformat_minor": 2
}
